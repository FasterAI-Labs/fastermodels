{
 "cells": [
  {
   "cell_type": "markdown",
   "metadata": {},
   "source": [
    "# HF\n",
    "\n",
    "> Utilities to manage HF Hub model hosting"
   ]
  },
  {
   "cell_type": "code",
   "execution_count": null,
   "metadata": {},
   "outputs": [],
   "source": [
    "#| default_exp hf"
   ]
  },
  {
   "cell_type": "code",
   "execution_count": null,
   "metadata": {},
   "outputs": [],
   "source": [
    "#| hide\n",
    "from nbdev.showdoc import *"
   ]
  },
  {
   "cell_type": "code",
   "execution_count": null,
   "metadata": {},
   "outputs": [],
   "source": [
    "#| export\n",
    "import torch\n",
    "from huggingface_hub import HfApi, login, hf_hub_download, Repository"
   ]
  },
  {
   "cell_type": "code",
   "execution_count": null,
   "metadata": {},
   "outputs": [],
   "source": [
    "#| export\n",
    "def create_repository(repo_name: str, private: bool = False):\n",
    "    \"\"\"Create a repository on the Hugging Face Hub.\"\"\"\n",
    "    api = HfApi()\n",
    "    api.create_repo(repo_id=repo_name, exist_ok=True, private=private)"
   ]
  },
  {
   "cell_type": "code",
   "execution_count": null,
   "metadata": {},
   "outputs": [],
   "source": [
    "#| export\n",
    "def upload_model_file(repo_name: str, file_path: str, path_in_repo: str = None):\n",
    "    \"\"\"Upload a model file to the Hugging Face Hub.\"\"\"\n",
    "    api = HfApi()\n",
    "    path_in_repo = path_in_repo or file_path.split(\"/\")[-1]\n",
    "    api.upload_file(\n",
    "        path_or_fileobj=file_path,\n",
    "        path_in_repo=path_in_repo,\n",
    "        repo_id=repo_name,\n",
    "        repo_type=\"model\",\n",
    "    )"
   ]
  },
  {
   "cell_type": "code",
   "execution_count": null,
   "metadata": {},
   "outputs": [],
   "source": [
    "#| export\n",
    "def upload_readme(repo_name: str, readme_path: str):\n",
    "    \"\"\"Upload a README.md file to the Hugging Face Hub.\"\"\"\n",
    "    api = HfApi()\n",
    "    api.upload_file(\n",
    "        path_or_fileobj=readme_path,\n",
    "        path_in_repo=\"README.md\",  # README file should always be named README.md\n",
    "        repo_id=repo_name,\n",
    "        repo_type=\"model\",\n",
    "    )"
   ]
  },
  {
   "cell_type": "code",
   "execution_count": null,
   "metadata": {},
   "outputs": [],
   "source": [
    "#| export\n",
    "def download_model_file(repo_name: str, file_name: str, save_path: str):\n",
    "    \"\"\"Download a file from the Hugging Face Hub.\"\"\"\n",
    "    file_path = hf_hub_download(repo_id=repo_name, filename=file_name)\n",
    "    with open(save_path, \"wb\") as f:\n",
    "        with open(file_path, \"rb\") as downloaded_file:\n",
    "            f.write(downloaded_file.read())"
   ]
  },
  {
   "cell_type": "code",
   "execution_count": null,
   "metadata": {},
   "outputs": [],
   "source": [
    "#| export\n",
    "def load_model(file_path: str, model_class):\n",
    "    \"\"\"Load a PyTorch model from a file.\"\"\"\n",
    "    model = model_class()\n",
    "    model.load_state_dict(torch.load(file_path))\n",
    "    return model"
   ]
  },
  {
   "cell_type": "code",
   "execution_count": null,
   "metadata": {},
   "outputs": [],
   "source": [
    "#| export\n",
    "def list_files_in_repo(repo_name: str):\n",
    "    \"\"\"List all files in a Hugging Face repository.\"\"\"\n",
    "    api = HfApi()\n",
    "    return api.list_repo_files(repo_id=repo_name, repo_type=\"model\")"
   ]
  },
  {
   "cell_type": "code",
   "execution_count": null,
   "metadata": {},
   "outputs": [],
   "source": [
    "#| export\n",
    "def delete_file_in_repo(repo_name: str, file_path: str):\n",
    "    \"\"\"Delete a file from a Hugging Face repository.\"\"\"\n",
    "    api = HfApi()\n",
    "    api.delete_file(repo_id=repo_name, path_in_repo=file_path)"
   ]
  },
  {
   "cell_type": "code",
   "execution_count": null,
   "metadata": {},
   "outputs": [],
   "source": [
    "#| export\n",
    "def clone_repository(repo_name: str, local_path: str):\n",
    "    \"\"\"Clone a Hugging Face repository locally.\"\"\"\n",
    "    return Repository(local_dir=local_path, clone_from=f\"https://huggingface.co/{repo_name}\")"
   ]
  },
  {
   "cell_type": "code",
   "execution_count": null,
   "metadata": {},
   "outputs": [],
   "source": [
    "#| export\n",
    "def save_and_upload_model(repo_name: str, model, file_path: str, path_in_repo: str = None, readme_path: str = None):\n",
    "    \"\"\"Save a PyTorch model and upload it to Hugging Face.\"\"\"\n",
    "    torch.save(model.state_dict(), file_path)\n",
    "    upload_model_file(repo_name, file_path, path_in_repo)\n",
    "    if readme_path: upload_readme(repo_name, readme_path)"
   ]
  },
  {
   "cell_type": "code",
   "execution_count": null,
   "metadata": {},
   "outputs": [],
   "source": [
    "#| export\n",
    "def generate_readme(metadata: dict) -> str:\n",
    "    \"\"\"\n",
    "    Generate a README.md file content with YAML front matter based on the provided metadata.\n",
    "    \"\"\"\n",
    "    # YAML Front Matter\n",
    "    yaml_front_matter = \"---\\n\"\n",
    "    yaml_front_matter += f\"license: {metadata.get('license', 'apache-2.0')}\\n\"\n",
    "    tags = metadata.get(\"tags\", [])\n",
    "    yaml_front_matter += \"tags:\\n\"\n",
    "    for tag in tags:\n",
    "        yaml_front_matter += f\"  - {tag}\\n\"\n",
    "    datasets = metadata.get(\"datasets\", [])\n",
    "    yaml_front_matter += \"datasets:\\n\"\n",
    "    for dataset in datasets:\n",
    "        yaml_front_matter += f\"  - {dataset}\\n\"\n",
    "    yaml_front_matter += \"---\\n\\n\"\n",
    "\n",
    "    # Header\n",
    "    readme = f\"# {metadata.get('model_name', 'Model')}\\n\\n\"\n",
    "    readme += f\"{metadata.get('description', 'Description not provided.')}\\n\\n\"\n",
    "\n",
    "    # Model Details Section\n",
    "    readme += \"## Model Details\\n\\n\"\n",
    "    readme += f\"- **Architecture**: {metadata.get('architecture', 'Unknown')}\\n\"\n",
    "    readme += f\"- **Framework**: {metadata.get('framework', 'Unknown')}\\n\"\n",
    "    readme += f\"- **Task**: {metadata.get('task', 'Unknown')}\\n\"\n",
    "    readme += f\"- **Datasets**: {', '.join(datasets) if datasets else 'None'}\\n\\n\"\n",
    "\n",
    "    # Metrics Section\n",
    "    metrics = metadata.get(\"metrics\", {})\n",
    "    if metrics:\n",
    "        readme += \"## Metrics\\n\\n\"\n",
    "        readme += \"| Metric | Value |\\n|--------|-------|\\n\"\n",
    "        for metric, value in metrics.items():\n",
    "            readme += f\"| {metric} | {value} |\\n\"\n",
    "        readme += \"\\n\"\n",
    "    else:\n",
    "        readme += \"## Metrics\\n\\nNo metrics provided.\\n\\n\"\n",
    "\n",
    "    # Usage Section\n",
    "    usage_example = metadata.get(\"usage_example\", \"\")\n",
    "    readme += \"## Usage\\n\\n\"\n",
    "    if usage_example:\n",
    "        readme += f\"To use this model, load it from the Hugging Face Hub:\\n\\n```python\\n{usage_example}\\n```\\n\\n\"\n",
    "    else:\n",
    "        readme += \"Usage example not provided.\\n\\n\"\n",
    "\n",
    "    # Licensing Section\n",
    "    license_text = metadata.get(\"license\", \"Apache 2.0\")\n",
    "    readme += \"## Licensing\\n\\n\"\n",
    "    readme += f\"This model is shared under the {license_text} license.\\n\"\n",
    "\n",
    "    return yaml_front_matter + readme"
   ]
  },
  {
   "cell_type": "code",
   "execution_count": null,
   "metadata": {},
   "outputs": [],
   "source": [
    "#| hide\n",
    "import nbdev; nbdev.nbdev_export()"
   ]
  },
  {
   "cell_type": "code",
   "execution_count": null,
   "metadata": {},
   "outputs": [],
   "source": []
  }
 ],
 "metadata": {
  "kernelspec": {
   "display_name": "python3",
   "language": "python",
   "name": "python3"
  }
 },
 "nbformat": 4,
 "nbformat_minor": 4
}
