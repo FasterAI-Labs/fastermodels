{
 "cells": [
  {
   "cell_type": "raw",
   "id": "94f55eca-2443-4d84-a16a-94c37df1f585",
   "metadata": {},
   "source": [
    "---\n",
    "description: Tutorial \n",
    "output-file: tutorial.usage.html\n",
    "title: Usage\n",
    "skip_showdoc: true\n",
    "skip_exec: true\n",
    "---"
   ]
  },
  {
   "cell_type": "code",
   "execution_count": null,
   "id": "ab13a005-e5d0-4e9b-831d-f3972a5be9ac",
   "metadata": {},
   "outputs": [],
   "source": [
    "from fastermodels.hf import *\n",
    "from fastai.vision.all import *\n",
    "from fastai.callback.all import *\n",
    "from fasterai.core.criteria import *\n",
    "import torch_pruning as tp\n",
    "from torch_pruning.pruner import function\n",
    "from torch_pruning.pruner.algorithms.scheduler import linear_scheduler\n",
    "import timm\n",
    "\n",
    "import torch\n",
    "import torch.nn as nn\n",
    "import torch.nn.functional as F\n",
    "\n",
    "from fasterbench.benchmark import *\n",
    "from fasterai.prune.all import *"
   ]
  },
  {
   "cell_type": "code",
   "execution_count": null,
   "id": "eff2dffe-4f63-4a0e-819d-41d693ca3f5c",
   "metadata": {},
   "outputs": [],
   "source": [
    "hf_model_name = 'tutorial'\n",
    "model_name = 'alexnet'"
   ]
  },
  {
   "cell_type": "markdown",
   "id": "a7acf5df-07c4-454b-84bf-265a89172077",
   "metadata": {},
   "source": [
    "## Get a model"
   ]
  },
  {
   "cell_type": "code",
   "execution_count": null,
   "id": "6e5bce41-6eef-4fe8-8f48-d5d496ff0da5",
   "metadata": {},
   "outputs": [],
   "source": [
    "model = globals()[model_name]()\n",
    "model_size = get_model_size(model)"
   ]
  },
  {
   "cell_type": "code",
   "execution_count": null,
   "id": "055e22d9-622d-4b4e-b44c-773cea02910f",
   "metadata": {},
   "outputs": [],
   "source": [
    "def get_dls(size, bs):\n",
    "    path = URLs.IMAGENETTE_160\n",
    "    source = untar_data(path)\n",
    "    blocks=(ImageBlock, CategoryBlock)\n",
    "    tfms = [RandomResizedCrop(size, min_scale=0.35), FlipItem(0.5)]\n",
    "    batch_tfms = [Normalize.from_stats(*imagenet_stats)]\n",
    "\n",
    "    csv_file = 'noisy_imagenette.csv'\n",
    "    inp = pd.read_csv(source/csv_file)\n",
    "    dblock = DataBlock(blocks=blocks,\n",
    "               splitter=ColSplitter(),\n",
    "               get_x=ColReader('path', pref=source),\n",
    "               get_y=ColReader(f'noisy_labels_0'),\n",
    "               item_tfms=tfms,\n",
    "               batch_tfms=batch_tfms)\n",
    "\n",
    "    return dblock.dataloaders(inp, path=source, bs=bs)"
   ]
  },
  {
   "cell_type": "code",
   "execution_count": null,
   "id": "554a17b3-da05-4e9e-a70c-ddb2a6a4c722",
   "metadata": {},
   "outputs": [
    {
     "data": {
      "text/html": [
       "\n",
       "<style>\n",
       "    /* Turns off some styling */\n",
       "    progress {\n",
       "        /* gets rid of default border in Firefox and Opera. */\n",
       "        border: none;\n",
       "        /* Needs to be in here for Safari polyfill so background images work as expected. */\n",
       "        background-size: auto;\n",
       "    }\n",
       "    progress:not([value]), progress:not([value])::-webkit-progress-bar {\n",
       "        background: repeating-linear-gradient(45deg, #7e7e7e, #7e7e7e 10px, #5c5c5c 10px, #5c5c5c 20px);\n",
       "    }\n",
       "    .progress-bar-interrupted, .progress-bar-interrupted::-webkit-progress-bar {\n",
       "        background: #F44336;\n",
       "    }\n",
       "</style>\n"
      ],
      "text/plain": [
       "<IPython.core.display.HTML object>"
      ]
     },
     "metadata": {},
     "output_type": "display_data"
    },
    {
     "data": {
      "text/html": [
       "<table border=\"1\" class=\"dataframe\">\n",
       "  <thead>\n",
       "    <tr style=\"text-align: left;\">\n",
       "      <th>epoch</th>\n",
       "      <th>train_loss</th>\n",
       "      <th>valid_loss</th>\n",
       "      <th>accuracy</th>\n",
       "      <th>time</th>\n",
       "    </tr>\n",
       "  </thead>\n",
       "  <tbody>\n",
       "    <tr>\n",
       "      <td>0</td>\n",
       "      <td>2.190084</td>\n",
       "      <td>2.294868</td>\n",
       "      <td>0.154650</td>\n",
       "      <td>00:05</td>\n",
       "    </tr>\n",
       "    <tr>\n",
       "      <td>1</td>\n",
       "      <td>1.957930</td>\n",
       "      <td>1.917212</td>\n",
       "      <td>0.328153</td>\n",
       "      <td>00:05</td>\n",
       "    </tr>\n",
       "    <tr>\n",
       "      <td>2</td>\n",
       "      <td>1.689020</td>\n",
       "      <td>1.605206</td>\n",
       "      <td>0.442293</td>\n",
       "      <td>00:05</td>\n",
       "    </tr>\n",
       "    <tr>\n",
       "      <td>3</td>\n",
       "      <td>1.430839</td>\n",
       "      <td>1.361510</td>\n",
       "      <td>0.538344</td>\n",
       "      <td>00:05</td>\n",
       "    </tr>\n",
       "    <tr>\n",
       "      <td>4</td>\n",
       "      <td>1.343451</td>\n",
       "      <td>1.291558</td>\n",
       "      <td>0.572994</td>\n",
       "      <td>00:05</td>\n",
       "    </tr>\n",
       "  </tbody>\n",
       "</table>"
      ],
      "text/plain": [
       "<IPython.core.display.HTML object>"
      ]
     },
     "metadata": {},
     "output_type": "display_data"
    }
   ],
   "source": [
    "dls = get_dls(160, 32)\n",
    "learn = Learner(dls, model, metrics = [accuracy])\n",
    "learn.fit_one_cycle(5)"
   ]
  },
  {
   "cell_type": "code",
   "execution_count": null,
   "id": "1d1cb4c5-ba7f-4252-87d1-1f05b2dce8c0",
   "metadata": {},
   "outputs": [
    {
     "data": {
      "text/html": [
       "\n",
       "<style>\n",
       "    /* Turns off some styling */\n",
       "    progress {\n",
       "        /* gets rid of default border in Firefox and Opera. */\n",
       "        border: none;\n",
       "        /* Needs to be in here for Safari polyfill so background images work as expected. */\n",
       "        background-size: auto;\n",
       "    }\n",
       "    progress:not([value]), progress:not([value])::-webkit-progress-bar {\n",
       "        background: repeating-linear-gradient(45deg, #7e7e7e, #7e7e7e 10px, #5c5c5c 10px, #5c5c5c 20px);\n",
       "    }\n",
       "    .progress-bar-interrupted, .progress-bar-interrupted::-webkit-progress-bar {\n",
       "        background: #F44336;\n",
       "    }\n",
       "</style>\n"
      ],
      "text/plain": [
       "<IPython.core.display.HTML object>"
      ]
     },
     "metadata": {},
     "output_type": "display_data"
    },
    {
     "data": {
      "text/html": [],
      "text/plain": [
       "<IPython.core.display.HTML object>"
      ]
     },
     "metadata": {},
     "output_type": "display_data"
    }
   ],
   "source": [
    "loss, acc = learn.validate()"
   ]
  },
  {
   "cell_type": "markdown",
   "id": "a4b86162-1fbf-4b74-a21d-38f6bef07f97",
   "metadata": {},
   "source": [
    "## Upload the model"
   ]
  },
  {
   "cell_type": "code",
   "execution_count": null,
   "id": "f57084e2-4feb-49fa-b289-5129b4fc62de",
   "metadata": {},
   "outputs": [],
   "source": [
    "metadata = {\n",
    "    \"model_name\": hf_model_name,\n",
    "    \"architecture\": model_name,\n",
    "    \"framework\": \"PyTorch\",\n",
    "    \"datasets\": [\"ImageNet\"],\n",
    "    \"task\": \"Classification\",\n",
    "    \"metrics\": {\"Model Accuracy\": acc},\n",
    "    \"usage_example\": \"\"\"\"\"\",\n",
    "    \"description\": \"A simple torchvision model\",\n",
    "    \"license\": \"mit\",\n",
    "    \"tags\": [\"classification\"],\n",
    "}"
   ]
  },
  {
   "cell_type": "code",
   "execution_count": null,
   "id": "f972af3d-7c26-40c5-b76d-47b9d0d7c751",
   "metadata": {},
   "outputs": [
    {
     "name": "stdout",
     "output_type": "stream",
     "text": [
      "README.md has been generated.\n"
     ]
    }
   ],
   "source": [
    "# Generate the README content\n",
    "readme_content = generate_readme(metadata)\n",
    "\n",
    "# Save the README to a file\n",
    "with open(\"README.md\", \"w\") as f:\n",
    "    f.write(readme_content)\n",
    "\n",
    "print(\"README.md has been generated.\")"
   ]
  },
  {
   "cell_type": "code",
   "execution_count": null,
   "id": "48357e69-dae3-414b-882b-b16541a6fb37",
   "metadata": {},
   "outputs": [
    {
     "data": {
      "application/vnd.jupyter.widget-view+json": {
       "model_id": "e69ebee32f3f46a2b18dfff6f91f6feb",
       "version_major": 2,
       "version_minor": 0
      },
      "text/plain": [
       "alexnet:   0%|          | 0.00/244M [00:00<?, ?B/s]"
      ]
     },
     "metadata": {},
     "output_type": "display_data"
    }
   ],
   "source": [
    "create_repository(f\"Nathan12/{hf_model_name}\")\n",
    "\n",
    "save_and_upload_model(f\"Nathan12/{hf_model_name}\", model, f\"{model_name}\", readme_path=\"README.md\")"
   ]
  },
  {
   "cell_type": "markdown",
   "id": "1c412fdb-1ef4-47b5-8bff-794181fe5f72",
   "metadata": {},
   "source": [
    "## Load the model from HuggingFace"
   ]
  },
  {
   "cell_type": "code",
   "execution_count": null,
   "id": "0c905c4b-8c59-4fcd-abf5-37a99ff10814",
   "metadata": {},
   "outputs": [
    {
     "data": {
      "application/vnd.jupyter.widget-view+json": {
       "model_id": "bf972281ecdb47658c0290c78220e8e1",
       "version_major": 2,
       "version_minor": 0
      },
      "text/plain": [
       "alexnet:   0%|          | 0.00/244M [00:00<?, ?B/s]"
      ]
     },
     "metadata": {},
     "output_type": "display_data"
    },
    {
     "name": "stderr",
     "output_type": "stream",
     "text": [
      "/tmp/ipykernel_11566/2452638795.py:11: FutureWarning: You are using `torch.load` with `weights_only=False` (the current default value), which uses the default pickle module implicitly. It is possible to construct malicious pickle data which will execute arbitrary code during unpickling (See https://github.com/pytorch/pytorch/blob/main/SECURITY.md#untrusted-models for more details). In a future release, the default value for `weights_only` will be flipped to `True`. This limits the functions that could be executed during unpickling. Arbitrary objects will no longer be allowed to be loaded via this mode unless they are explicitly allowlisted by the user via `torch.serialization.add_safe_globals`. We recommend you start setting `weights_only=True` for any use case where you don't have full control of the loaded file. Please open an issue on GitHub for any issues related to this experimental feature.\n",
      "  model = torch.load(model_file)\n"
     ]
    },
    {
     "name": "stdout",
     "output_type": "stream",
     "text": [
      "Model loaded successfully!\n"
     ]
    }
   ],
   "source": [
    "from huggingface_hub import hf_hub_download\n",
    "import torch\n",
    "\n",
    "# Download the model from Hugging Face\n",
    "model_file = hf_hub_download(\n",
    "    repo_id=f\"Nathan12/{hf_model_name}\",\n",
    "    filename=model_name\n",
    ")\n",
    "\n",
    "# Load the model (architecture + weights)\n",
    "model = torch.load(model_file)\n",
    "\n",
    "print(\"Model loaded successfully!\")"
   ]
  },
  {
   "cell_type": "code",
   "execution_count": null,
   "id": "3fdd67dc-e18f-4de4-9e42-cb2c403ca098",
   "metadata": {},
   "outputs": [
    {
     "data": {
      "text/html": [
       "\n",
       "<style>\n",
       "    /* Turns off some styling */\n",
       "    progress {\n",
       "        /* gets rid of default border in Firefox and Opera. */\n",
       "        border: none;\n",
       "        /* Needs to be in here for Safari polyfill so background images work as expected. */\n",
       "        background-size: auto;\n",
       "    }\n",
       "    progress:not([value]), progress:not([value])::-webkit-progress-bar {\n",
       "        background: repeating-linear-gradient(45deg, #7e7e7e, #7e7e7e 10px, #5c5c5c 10px, #5c5c5c 20px);\n",
       "    }\n",
       "    .progress-bar-interrupted, .progress-bar-interrupted::-webkit-progress-bar {\n",
       "        background: #F44336;\n",
       "    }\n",
       "</style>\n"
      ],
      "text/plain": [
       "<IPython.core.display.HTML object>"
      ]
     },
     "metadata": {},
     "output_type": "display_data"
    },
    {
     "data": {
      "text/html": [
       "<table border=\"1\" class=\"dataframe\">\n",
       "  <thead>\n",
       "    <tr style=\"text-align: left;\">\n",
       "      <th>epoch</th>\n",
       "      <th>train_loss</th>\n",
       "      <th>valid_loss</th>\n",
       "      <th>accuracy</th>\n",
       "      <th>time</th>\n",
       "    </tr>\n",
       "  </thead>\n",
       "  <tbody>\n",
       "    <tr>\n",
       "      <td>0</td>\n",
       "      <td>1.561073</td>\n",
       "      <td>1.590430</td>\n",
       "      <td>0.476688</td>\n",
       "      <td>00:05</td>\n",
       "    </tr>\n",
       "    <tr>\n",
       "      <td>1</td>\n",
       "      <td>1.508280</td>\n",
       "      <td>1.513178</td>\n",
       "      <td>0.504204</td>\n",
       "      <td>00:05</td>\n",
       "    </tr>\n",
       "    <tr>\n",
       "      <td>2</td>\n",
       "      <td>1.322130</td>\n",
       "      <td>1.321613</td>\n",
       "      <td>0.576815</td>\n",
       "      <td>00:05</td>\n",
       "    </tr>\n",
       "    <tr>\n",
       "      <td>3</td>\n",
       "      <td>1.143002</td>\n",
       "      <td>1.087752</td>\n",
       "      <td>0.644331</td>\n",
       "      <td>00:05</td>\n",
       "    </tr>\n",
       "    <tr>\n",
       "      <td>4</td>\n",
       "      <td>1.034787</td>\n",
       "      <td>1.018889</td>\n",
       "      <td>0.674140</td>\n",
       "      <td>00:05</td>\n",
       "    </tr>\n",
       "  </tbody>\n",
       "</table>"
      ],
      "text/plain": [
       "<IPython.core.display.HTML object>"
      ]
     },
     "metadata": {},
     "output_type": "display_data"
    }
   ],
   "source": [
    "learn = Learner(dls, model, metrics = [accuracy])\n",
    "learn.fit_one_cycle(5)"
   ]
  },
  {
   "cell_type": "code",
   "execution_count": null,
   "id": "17e535e6-b269-40a9-806a-009a268a85bd",
   "metadata": {},
   "outputs": [],
   "source": []
  }
 ],
 "metadata": {
  "kernelspec": {
   "display_name": "python3",
   "language": "python",
   "name": "python3"
  }
 },
 "nbformat": 4,
 "nbformat_minor": 5
}
